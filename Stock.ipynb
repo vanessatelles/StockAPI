{
  "cells": [
    {
      "cell_type": "markdown",
      "metadata": {
        "id": "uMrzDUT5gYQu"
      },
      "source": [
        "# Alpha Vantage"
      ]
    },
    {
      "cell_type": "code",
      "execution_count": null,
      "metadata": {
        "id": "VXlc2KEsyuc7"
      },
      "outputs": [],
      "source": [
        "import requests\n",
        "from collections import namedtuple"
      ]
    },
    {
      "cell_type": "code",
      "execution_count": null,
      "metadata": {
        "id": "uENC9xOv4wfw"
      },
      "outputs": [],
      "source": [
        "#ativo = \"PETR4.SAO\"\n",
        "ativo = \"IBM\"\n",
        "key = \"YourKey\"\n",
        "intervalo = \"30min\"\n",
        "#url=\"https://www.alphavantage.co/query?function=TIME_SERIES_INTRADAY&symbol=IBM&interval=30min&outputsize=full&apikey=YourKey\""
      ]
    },
    {
      "cell_type": "code",
      "execution_count": null,
      "metadata": {
        "id": "YutpjsjGyx-l"
      },
      "outputs": [],
      "source": [
        "Security_Data = namedtuple(\"SecurityData\", [\"Date\", \"OpenPrice\", \"HighPrice\", \"LowPrice\", \"ClosePrice\", \"VolumePrice\"])\n",
        "\n",
        "API_URL = \"https://www.alphavantage.co/query\"\n",
        "data = {\n",
        "    \"function\": \"TIME_SERIES_INTRADAY\",\n",
        "    \"symbol\": ativo,\n",
        "    \"interval\": intervalo,\n",
        "    \"outputsize\": \"compact\",\n",
        "    \"apikey\": key\n",
        "    }\n",
        "\n",
        "response = requests.get(API_URL, params= data)\n",
        "api = response.json()\n",
        "time_series = api[f\"Time Series ({intervalo})\"]\n",
        "all_data = []\n",
        "\n",
        "for time, prices in time_series.items():\n",
        "    data = Security_Data(time, prices[\"1. open\"], prices[\"2. high\"], prices[\"3. low\"], prices[\"4. close\"], prices[\"5. volume\"])\n",
        "    all_data.append(data)"
      ]
    },
    {
      "cell_type": "code",
      "execution_count": null,
      "metadata": {
        "colab": {
          "base_uri": "https://localhost:8080/"
        },
        "id": "1Q6ra6AH0Jds",
        "outputId": "07614f27-de57-4bee-a7c8-2d1be4584d3e"
      },
      "outputs": [
        {
          "data": {
            "text/plain": [
              "[SecurityData(Date='2021-12-03 20:00:00', OpenPrice='119.1100', HighPrice='119.1100', LowPrice='119.1100', ClosePrice='119.1100', VolumePrice='307'),\n",
              " SecurityData(Date='2021-12-03 19:00:00', OpenPrice='118.9200', HighPrice='119.0600', LowPrice='118.8400', ClosePrice='119.0500', VolumePrice='3469'),\n",
              " SecurityData(Date='2021-12-03 18:00:00', OpenPrice='118.6200', HighPrice='119.0000', LowPrice='118.5401', ClosePrice='118.8500', VolumePrice='114072'),\n",
              " SecurityData(Date='2021-12-03 17:00:00', OpenPrice='118.8400', HighPrice='118.8400', LowPrice='118.8400', ClosePrice='118.8400', VolumePrice='518477'),\n",
              " SecurityData(Date='2021-12-03 16:00:00', OpenPrice='118.1000', HighPrice='119.0100', LowPrice='117.9400', ClosePrice='118.8300', VolumePrice='1230398'),\n",
              " SecurityData(Date='2021-12-03 15:00:00', OpenPrice='118.8000', HighPrice='118.8000', LowPrice='117.9800', ClosePrice='118.1000', VolumePrice='551190'),\n",
              " SecurityData(Date='2021-12-03 14:00:00', OpenPrice='118.7700', HighPrice='119.1600', LowPrice='118.5703', ClosePrice='118.7900', VolumePrice='579140'),\n",
              " SecurityData(Date='2021-12-03 13:00:00', OpenPrice='118.7900', HighPrice='119.2000', LowPrice='118.6000', ClosePrice='118.7850', VolumePrice='782495'),\n",
              " SecurityData(Date='2021-12-03 12:00:00', OpenPrice='118.1900', HighPrice='119.3600', LowPrice='118.1600', ClosePrice='118.7703', VolumePrice='760303'),\n",
              " SecurityData(Date='2021-12-03 11:00:00', OpenPrice='118.3000', HighPrice='118.5900', LowPrice='117.7700', ClosePrice='118.1900', VolumePrice='742680'),\n",
              " SecurityData(Date='2021-12-03 10:00:00', OpenPrice='117.4500', HighPrice='118.6400', LowPrice='117.0100', ClosePrice='118.2930', VolumePrice='487422'),\n",
              " SecurityData(Date='2021-12-03 09:00:00', OpenPrice='117.1497', HighPrice='117.5800', LowPrice='117.1200', ClosePrice='117.5800', VolumePrice='3004'),\n",
              " SecurityData(Date='2021-12-02 20:00:00', OpenPrice='116.8900', HighPrice='116.8900', LowPrice='116.8900', ClosePrice='116.8900', VolumePrice='100'),\n",
              " SecurityData(Date='2021-12-02 19:00:00', OpenPrice='117.0000', HighPrice='117.0000', LowPrice='116.8400', ClosePrice='116.8600', VolumePrice='2868'),\n",
              " SecurityData(Date='2021-12-02 18:00:00', OpenPrice='116.9400', HighPrice='116.9400', LowPrice='116.9400', ClosePrice='116.9400', VolumePrice='388'),\n",
              " SecurityData(Date='2021-12-02 17:00:00', OpenPrice='116.9000', HighPrice='117.2000', LowPrice='116.9000', ClosePrice='117.1900', VolumePrice='170346'),\n",
              " SecurityData(Date='2021-12-02 16:00:00', OpenPrice='117.4100', HighPrice='117.5400', LowPrice='116.7000', ClosePrice='116.9000', VolumePrice='1166297'),\n",
              " SecurityData(Date='2021-12-02 15:00:00', OpenPrice='117.6400', HighPrice='117.8606', LowPrice='117.3650', ClosePrice='117.3900', VolumePrice='430818'),\n",
              " SecurityData(Date='2021-12-02 14:00:00', OpenPrice='117.1300', HighPrice='117.6900', LowPrice='116.9100', ClosePrice='117.6300', VolumePrice='399236'),\n",
              " SecurityData(Date='2021-12-02 13:00:00', OpenPrice='117.6100', HighPrice='117.6500', LowPrice='117.0400', ClosePrice='117.1050', VolumePrice='471180'),\n",
              " SecurityData(Date='2021-12-02 12:00:00', OpenPrice='117.8000', HighPrice='117.9800', LowPrice='117.1800', ClosePrice='117.6390', VolumePrice='554490'),\n",
              " SecurityData(Date='2021-12-02 11:00:00', OpenPrice='116.8900', HighPrice='117.8700', LowPrice='116.5600', ClosePrice='117.8300', VolumePrice='796491'),\n",
              " SecurityData(Date='2021-12-02 10:00:00', OpenPrice='117.7400', HighPrice='117.8600', LowPrice='116.6100', ClosePrice='116.8828', VolumePrice='612959'),\n",
              " SecurityData(Date='2021-12-02 09:00:00', OpenPrice='117.5601', HighPrice='117.7500', LowPrice='117.3600', ClosePrice='117.7500', VolumePrice='5127'),\n",
              " SecurityData(Date='2021-12-02 08:00:00', OpenPrice='117.4100', HighPrice='117.4100', LowPrice='117.2900', ClosePrice='117.2900', VolumePrice='554'),\n",
              " SecurityData(Date='2021-12-02 05:00:00', OpenPrice='117.0000', HighPrice='117.0000', LowPrice='117.0000', ClosePrice='117.0000', VolumePrice='520'),\n",
              " SecurityData(Date='2021-12-01 20:00:00', OpenPrice='117.4300', HighPrice='117.4300', LowPrice='117.0300', ClosePrice='117.0300', VolumePrice='400'),\n",
              " SecurityData(Date='2021-12-01 19:00:00', OpenPrice='117.1500', HighPrice='117.1500', LowPrice='117.1000', ClosePrice='117.1000', VolumePrice='538'),\n",
              " SecurityData(Date='2021-12-01 18:00:00', OpenPrice='117.0000', HighPrice='117.0000', LowPrice='116.9300', ClosePrice='116.9500', VolumePrice='1471'),\n",
              " SecurityData(Date='2021-12-01 17:00:00', OpenPrice='116.9200', HighPrice='117.4300', LowPrice='116.6700', ClosePrice='117.2000', VolumePrice='488630'),\n",
              " SecurityData(Date='2021-12-01 16:00:00', OpenPrice='118.2800', HighPrice='118.4000', LowPrice='116.8500', ClosePrice='116.9200', VolumePrice='1186106'),\n",
              " SecurityData(Date='2021-12-01 15:00:00', OpenPrice='117.6700', HighPrice='118.3900', LowPrice='117.5300', ClosePrice='118.2600', VolumePrice='729671'),\n",
              " SecurityData(Date='2021-12-01 14:00:00', OpenPrice='117.7501', HighPrice='118.3979', LowPrice='117.3200', ClosePrice='117.6900', VolumePrice='593803'),\n",
              " SecurityData(Date='2021-12-01 13:00:00', OpenPrice='118.4662', HighPrice='118.9300', LowPrice='117.7000', ClosePrice='117.7600', VolumePrice='625810'),\n",
              " SecurityData(Date='2021-12-01 12:00:00', OpenPrice='118.1500', HighPrice='118.9300', LowPrice='118.1200', ClosePrice='118.4600', VolumePrice='563474'),\n",
              " SecurityData(Date='2021-12-01 11:00:00', OpenPrice='117.6700', HighPrice='118.3899', LowPrice='117.5800', ClosePrice='118.1700', VolumePrice='673010'),\n",
              " SecurityData(Date='2021-12-01 10:00:00', OpenPrice='118.2700', HighPrice='118.9300', LowPrice='117.1100', ClosePrice='117.6400', VolumePrice='575727'),\n",
              " SecurityData(Date='2021-12-01 09:00:00', OpenPrice='118.2500', HighPrice='118.5400', LowPrice='118.0001', ClosePrice='118.2400', VolumePrice='13434'),\n",
              " SecurityData(Date='2021-12-01 08:00:00', OpenPrice='118.3700', HighPrice='118.3700', LowPrice='118.1200', ClosePrice='118.3000', VolumePrice='5213'),\n",
              " SecurityData(Date='2021-11-30 20:00:00', OpenPrice='117.6500', HighPrice='117.6500', LowPrice='117.6200', ClosePrice='117.6200', VolumePrice='910'),\n",
              " SecurityData(Date='2021-11-30 19:00:00', OpenPrice='117.8100', HighPrice='117.8500', LowPrice='117.8000', ClosePrice='117.8500', VolumePrice='500'),\n",
              " SecurityData(Date='2021-11-30 18:00:00', OpenPrice='117.8300', HighPrice='117.8500', LowPrice='117.5500', ClosePrice='117.5800', VolumePrice='4033'),\n",
              " SecurityData(Date='2021-11-30 17:00:00', OpenPrice='117.1000', HighPrice='117.8400', LowPrice='117.1000', ClosePrice='117.8000', VolumePrice='370457'),\n",
              " SecurityData(Date='2021-11-30 16:00:00', OpenPrice='116.8400', HighPrice='117.6300', LowPrice='116.7500', ClosePrice='117.1400', VolumePrice='1582437'),\n",
              " SecurityData(Date='2021-11-30 15:00:00', OpenPrice='117.2000', HighPrice='117.5537', LowPrice='116.7500', ClosePrice='116.8400', VolumePrice='810319'),\n",
              " SecurityData(Date='2021-11-30 14:00:00', OpenPrice='117.0100', HighPrice='117.2700', LowPrice='116.9300', ClosePrice='117.2100', VolumePrice='581811'),\n",
              " SecurityData(Date='2021-11-30 13:00:00', OpenPrice='117.3250', HighPrice='117.3399', LowPrice='116.4500', ClosePrice='116.9800', VolumePrice='833478'),\n",
              " SecurityData(Date='2021-11-30 12:00:00', OpenPrice='117.7200', HighPrice='118.1900', LowPrice='117.0400', ClosePrice='117.3000', VolumePrice='781536'),\n",
              " SecurityData(Date='2021-11-30 11:00:00', OpenPrice='118.7300', HighPrice='119.2399', LowPrice='117.7200', ClosePrice='117.7450', VolumePrice='993988'),\n",
              " SecurityData(Date='2021-11-30 10:00:00', OpenPrice='118.2500', HighPrice='119.1800', LowPrice='117.2700', ClosePrice='118.7600', VolumePrice='676646'),\n",
              " SecurityData(Date='2021-11-30 09:00:00', OpenPrice='117.3500', HighPrice='118.0200', LowPrice='117.1719', ClosePrice='117.9700', VolumePrice='10070'),\n",
              " SecurityData(Date='2021-11-30 08:00:00', OpenPrice='117.4100', HighPrice='118.0000', LowPrice='117.3000', ClosePrice='117.7300', VolumePrice='5579'),\n",
              " SecurityData(Date='2021-11-30 06:00:00', OpenPrice='117.3900', HighPrice='117.5000', LowPrice='117.3900', ClosePrice='117.4600', VolumePrice='2238'),\n",
              " SecurityData(Date='2021-11-30 05:00:00', OpenPrice='117.8800', HighPrice='117.8800', LowPrice='116.8500', ClosePrice='116.8500', VolumePrice='9859'),\n",
              " SecurityData(Date='2021-11-29 20:00:00', OpenPrice='118.7500', HighPrice='118.8500', LowPrice='118.7000', ClosePrice='118.7000', VolumePrice='5377'),\n",
              " SecurityData(Date='2021-11-29 19:00:00', OpenPrice='118.8000', HighPrice='119.0000', LowPrice='118.8000', ClosePrice='119.0000', VolumePrice='8191'),\n",
              " SecurityData(Date='2021-11-29 18:00:00', OpenPrice='118.5000', HighPrice='118.9900', LowPrice='118.5000', ClosePrice='118.9900', VolumePrice='603'),\n",
              " SecurityData(Date='2021-11-29 17:00:00', OpenPrice='118.5000', HighPrice='118.9800', LowPrice='118.4999', ClosePrice='118.9800', VolumePrice='97235'),\n",
              " SecurityData(Date='2021-11-29 16:00:00', OpenPrice='119.2500', HighPrice='119.5300', LowPrice='118.4600', ClosePrice='118.4999', VolumePrice='1908171'),\n",
              " SecurityData(Date='2021-11-29 15:00:00', OpenPrice='119.2800', HighPrice='119.6100', LowPrice='119.1300', ClosePrice='119.2400', VolumePrice='590928'),\n",
              " SecurityData(Date='2021-11-29 14:00:00', OpenPrice='119.1510', HighPrice='119.3400', LowPrice='119.0800', ClosePrice='119.2900', VolumePrice='636273'),\n",
              " SecurityData(Date='2021-11-29 13:00:00', OpenPrice='118.9900', HighPrice='119.3400', LowPrice='118.8400', ClosePrice='119.1650', VolumePrice='922680'),\n",
              " SecurityData(Date='2021-11-29 12:00:00', OpenPrice='118.3799', HighPrice='119.0100', LowPrice='118.2900', ClosePrice='119.0000', VolumePrice='854968'),\n",
              " SecurityData(Date='2021-11-29 11:00:00', OpenPrice='118.0300', HighPrice='119.1100', LowPrice='117.8600', ClosePrice='118.3700', VolumePrice='1223571'),\n",
              " SecurityData(Date='2021-11-29 10:00:00', OpenPrice='117.5500', HighPrice='119.1100', LowPrice='117.5000', ClosePrice='118.0899', VolumePrice='1690387'),\n",
              " SecurityData(Date='2021-11-29 09:00:00', OpenPrice='116.8500', HighPrice='118.0000', LowPrice='116.8030', ClosePrice='117.5100', VolumePrice='49531'),\n",
              " SecurityData(Date='2021-11-29 08:00:00', OpenPrice='117.1400', HighPrice='117.2000', LowPrice='116.7700', ClosePrice='116.8200', VolumePrice='9039'),\n",
              " SecurityData(Date='2021-11-29 07:00:00', OpenPrice='116.8900', HighPrice='116.8900', LowPrice='116.8900', ClosePrice='116.8900', VolumePrice='100'),\n",
              " SecurityData(Date='2021-11-29 06:00:00', OpenPrice='116.9000', HighPrice='116.9000', LowPrice='116.7500', ClosePrice='116.7500', VolumePrice='3501'),\n",
              " SecurityData(Date='2021-11-29 05:00:00', OpenPrice='116.9200', HighPrice='117.1700', LowPrice='116.7700', ClosePrice='116.7700', VolumePrice='4046'),\n",
              " SecurityData(Date='2021-11-26 17:00:00', OpenPrice='115.6500', HighPrice='115.6800', LowPrice='115.6500', ClosePrice='115.6800', VolumePrice='330'),\n",
              " SecurityData(Date='2021-11-26 16:00:00', OpenPrice='115.8100', HighPrice='115.8100', LowPrice='115.8100', ClosePrice='115.8100', VolumePrice='0'),\n",
              " SecurityData(Date='2021-11-26 14:00:00', OpenPrice='115.8100', HighPrice='115.8100', LowPrice='115.8100', ClosePrice='115.8100', VolumePrice='354672'),\n",
              " SecurityData(Date='2021-11-26 13:00:00', OpenPrice='115.6700', HighPrice='116.3350', LowPrice='115.4600', ClosePrice='115.9100', VolumePrice='870818'),\n",
              " SecurityData(Date='2021-11-26 12:00:00', OpenPrice='115.8800', HighPrice='115.8800', LowPrice='115.1200', ClosePrice='115.6400', VolumePrice='617404'),\n",
              " SecurityData(Date='2021-11-26 11:00:00', OpenPrice='115.3200', HighPrice='116.0500', LowPrice='115.0800', ClosePrice='115.9000', VolumePrice='671741'),\n",
              " SecurityData(Date='2021-11-26 10:00:00', OpenPrice='115.0500', HighPrice='115.9600', LowPrice='114.5600', ClosePrice='115.3500', VolumePrice='712063'),\n",
              " SecurityData(Date='2021-11-26 09:00:00', OpenPrice='115.2500', HighPrice='115.8500', LowPrice='114.8900', ClosePrice='115.0500', VolumePrice='12495'),\n",
              " SecurityData(Date='2021-11-26 08:00:00', OpenPrice='115.2000', HighPrice='115.6500', LowPrice='115.0000', ClosePrice='115.0000', VolumePrice='15855'),\n",
              " SecurityData(Date='2021-11-26 07:00:00', OpenPrice='115.3000', HighPrice='115.4000', LowPrice='115.3000', ClosePrice='115.4000', VolumePrice='804'),\n",
              " SecurityData(Date='2021-11-26 06:00:00', OpenPrice='115.4300', HighPrice='115.5200', LowPrice='115.4300', ClosePrice='115.5000', VolumePrice='802'),\n",
              " SecurityData(Date='2021-11-26 05:00:00', OpenPrice='116.0100', HighPrice='116.0100', LowPrice='114.6500', ClosePrice='115.0000', VolumePrice='5292'),\n",
              " SecurityData(Date='2021-11-24 20:00:00', OpenPrice='116.9000', HighPrice='116.9000', LowPrice='116.9000', ClosePrice='116.9000', VolumePrice='319'),\n",
              " SecurityData(Date='2021-11-24 19:00:00', OpenPrice='116.9000', HighPrice='116.9300', LowPrice='116.7500', ClosePrice='116.9000', VolumePrice='1820'),\n",
              " SecurityData(Date='2021-11-24 18:00:00', OpenPrice='116.7800', HighPrice='116.9300', LowPrice='116.7300', ClosePrice='116.9300', VolumePrice='407'),\n",
              " SecurityData(Date='2021-11-24 17:00:00', OpenPrice='116.7300', HighPrice='116.9500', LowPrice='116.7300', ClosePrice='116.9500', VolumePrice='36458'),\n",
              " SecurityData(Date='2021-11-24 16:00:00', OpenPrice='116.6400', HighPrice='116.9600', LowPrice='116.5900', ClosePrice='116.7500', VolumePrice='610169'),\n",
              " SecurityData(Date='2021-11-24 15:00:00', OpenPrice='116.7100', HighPrice='116.7800', LowPrice='116.4200', ClosePrice='116.6300', VolumePrice='275303'),\n",
              " SecurityData(Date='2021-11-24 14:00:00', OpenPrice='116.6700', HighPrice='116.7900', LowPrice='116.4000', ClosePrice='116.7400', VolumePrice='259754'),\n",
              " SecurityData(Date='2021-11-24 13:00:00', OpenPrice='116.3311', HighPrice='116.6900', LowPrice='116.2400', ClosePrice='116.6900', VolumePrice='267324'),\n",
              " SecurityData(Date='2021-11-24 12:00:00', OpenPrice='116.3500', HighPrice='116.6100', LowPrice='116.2700', ClosePrice='116.3300', VolumePrice='447244'),\n",
              " SecurityData(Date='2021-11-24 11:00:00', OpenPrice='116.4400', HighPrice='116.6600', LowPrice='116.0900', ClosePrice='116.3400', VolumePrice='418309'),\n",
              " SecurityData(Date='2021-11-24 10:00:00', OpenPrice='116.6900', HighPrice='117.2700', LowPrice='116.0800', ClosePrice='116.5150', VolumePrice='366732'),\n",
              " SecurityData(Date='2021-11-24 09:00:00', OpenPrice='117.0000', HighPrice='117.0000', LowPrice='116.5000', ClosePrice='116.6800', VolumePrice='6028'),\n",
              " SecurityData(Date='2021-11-24 08:00:00', OpenPrice='116.8100', HighPrice='116.8100', LowPrice='116.7500', ClosePrice='116.7500', VolumePrice='354'),\n",
              " SecurityData(Date='2021-11-24 06:00:00', OpenPrice='116.9600', HighPrice='116.9600', LowPrice='116.7600', ClosePrice='116.7600', VolumePrice='795'),\n",
              " SecurityData(Date='2021-11-23 20:00:00', OpenPrice='116.8100', HighPrice='116.8100', LowPrice='116.8100', ClosePrice='116.8100', VolumePrice='181'),\n",
              " SecurityData(Date='2021-11-23 19:00:00', OpenPrice='116.5100', HighPrice='116.7800', LowPrice='116.5100', ClosePrice='116.7800', VolumePrice='2031'),\n",
              " SecurityData(Date='2021-11-23 18:00:00', OpenPrice='116.7500', HighPrice='116.7800', LowPrice='116.5100', ClosePrice='116.7800', VolumePrice='1070'),\n",
              " SecurityData(Date='2021-11-23 17:00:00', OpenPrice='116.7900', HighPrice='116.8000', LowPrice='116.5100', ClosePrice='116.7900', VolumePrice='127537')]"
            ]
          },
          "execution_count": 98,
          "metadata": {},
          "output_type": "execute_result"
        }
      ],
      "source": [
        "all_data"
      ]
    }
  ],
  "metadata": {
    "colab": {
      "collapsed_sections": [
        "uMrzDUT5gYQu",
        "i5Xm6LwQgnPa",
        "qeM6D7rKaNML"
      ],
      "provenance": []
    },
    "kernelspec": {
      "display_name": "Python 3",
      "name": "python3"
    },
    "language_info": {
      "name": "python"
    }
  },
  "nbformat": 4,
  "nbformat_minor": 0
}
